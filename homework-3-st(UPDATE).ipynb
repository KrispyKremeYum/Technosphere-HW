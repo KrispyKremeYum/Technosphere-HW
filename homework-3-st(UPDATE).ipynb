{
 "cells": [
  {
   "cell_type": "markdown",
   "metadata": {},
   "source": [
    "# Домашнее задание 3. Алгоритмы кластеризации"
   ]
  },
  {
   "cell_type": "markdown",
   "metadata": {},
   "source": [
    "Основная задача этого задания -- реализация одного из алгоритмов кластеризации. Кроме того, мы научимся подбирать параметры алгоритма, визуализируем результат кластеризации и попытаемся проанализировать природу полученных кластеров."
   ]
  },
  {
   "cell_type": "code",
   "execution_count": 1,
   "metadata": {
    "collapsed": false
   },
   "outputs": [
    {
     "name": "stdout",
     "output_type": "stream",
     "text": [
      "Populating the interactive namespace from numpy and matplotlib\n"
     ]
    }
   ],
   "source": [
    "import pandas as pd\n",
    "import pylab as pl\n",
    "import numpy as np\n",
    "import scipy.spatial as ss\n",
    "import sklearn.cluster as sc\n",
    "import sklearn.manifold as sm\n",
    "import sklearn.datasets as ds\n",
    "import sklearn.metrics as smt\n",
    "\n",
    "# Plotting config\n",
    "%pylab inline"
   ]
  },
  {
   "cell_type": "markdown",
   "metadata": {},
   "source": [
    "Cчитываем данные, полученные в результате выполнения предыдущего домашнего задания, в `data frame` библиотеки `pandas`. Конвертируем данные в массив `numpy`."
   ]
  },
  {
   "cell_type": "code",
   "execution_count": 2,
   "metadata": {
    "collapsed": false
   },
   "outputs": [],
   "source": [
    "data_df = pd.read_csv(\"hw2_out.csv\", sep=\"\\t\", header=0, index_col=\"uid\")\n",
    "x = data_df.values"
   ]
  },
  {
   "cell_type": "markdown",
   "metadata": {},
   "source": [
    "Алгоритм кластеризации, который необходимо реализовать, выбирается на основании Вашего логина на портале Техносферы. При проверке домашнего задания бадут осуществляться проверка логина и соответствующего алгоритма."
   ]
  },
  {
   "cell_type": "code",
   "execution_count": 3,
   "metadata": {
    "collapsed": false
   },
   "outputs": [
    {
     "name": "stdout",
     "output_type": "stream",
     "text": [
      "Реализуем алгоритм кластеризации 'Hierarchical clustering с поддержкой single-linkage, complete-linkage, average-linkage (параметры - k, linkage)'\n"
     ]
    }
   ],
   "source": [
    "algorithms = [\n",
    "    u\"Gaussian Mixture Model с использованием maximum a-posteriori для выбора кластера (параметр - k)\",\n",
    "    u\"Hierarchical clustering с поддержкой single-linkage, complete-linkage, average-linkage (параметры - k, linkage)\",\n",
    "    u\"DBSCAN. (параметры  - epsilon, min_pts)\", \n",
    "    u\"OPTICS. (параметры - epsilon, min_pts)\"\n",
    "]\n",
    "\n",
    "my_algorithm = algorithms[hash(\"Мария Розет\") % len(algorithms)]\n",
    "print u\"Реализуем алгоритм кластеризации '%s'\" % my_algorithm"
   ]
  },
  {
   "cell_type": "markdown",
   "metadata": {},
   "source": [
    "Алгоритм кластеризации должен удовлетворять следующему интерфейсу. Конструктор принимает набор параметров, необходимых для работы алгоритма кластеризации. Метод `fit` подсчитывает параметры модели и возвращает `self`. Метод `predict` возвращает вектор с индексами кластеров для поданных в него объектов `x`"
   ]
  },
  {
   "cell_type": "code",
   "execution_count": 4,
   "metadata": {
    "collapsed": false
   },
   "outputs": [],
   "source": [
    "class Cluster:\n",
    "    \"\"\" Tree representing cluster \"\"\"\n",
    "    \n",
    "    def __init__(self, i, ptrs, left=None, right=None, dist=0, num=1):\n",
    "        self.i = i\n",
    "        self.left = left\n",
    "        self.right = right \n",
    "        self.dist = dist \n",
    "        if self.left is None:\n",
    "            self.num = num\n",
    "            self.ptrs = [ptrs]\n",
    "        else:\n",
    "            self.num = left.num + right.num\n",
    "            self.ptrs = ptrs\n",
    "        \n",
    "    def get_i(self):\n",
    "        return self.i\n",
    "    \n",
    "    def get_num(self):\n",
    "        return self.num\n",
    "    \n",
    "    def get_ptrs(self):\n",
    "        return self.ptrs\n",
    "    \n",
    "def single(x, y, a, b):\n",
    "    return min(x,y)\n",
    "\n",
    "def complete(x, y, a, b):\n",
    "    return max(x, y)\n",
    "\n",
    "def average(x, y, nx, ny):\n",
    "    return (nx*x + ny*y)/(nx + ny)\n",
    "    \n",
    "def merge(C, d, i, j):\n",
    "    if i > j:\n",
    "        tmp = i\n",
    "        i = j\n",
    "        j = tmp\n",
    "    C[i] = Cluster(i=C[i].i, ptrs=C[i].ptrs + C[j].ptrs, left=C[i], right=C[j], dist=d)\n",
    "    C.pop(j)\n",
    "    return C\n",
    "    \n",
    "def update_dist(D, i, j, Ci, Cj, linkage):\n",
    "    if i > j:\n",
    "        tmp = i\n",
    "        i = j\n",
    "        j = tmp\n",
    "        tmp = Ci\n",
    "        Ci = Cj\n",
    "        Cj = tmp\n",
    "    for k in xrange(len(D[i])):\n",
    "        if k != i and k != j:\n",
    "            D[i][k] = linkage(D[i][k], D[j][k], Ci.get_num(), Cj.get_num())\n",
    "            D[k][i] = D[i][k]\n",
    "    D = np.delete(D, j, 0)\n",
    "    D = np.delete(D, j, 1)\n",
    "    return D\n",
    "    "
   ]
  },
  {
   "cell_type": "code",
   "execution_count": 5,
   "metadata": {
    "collapsed": false
   },
   "outputs": [],
   "source": [
    "class Clustering:\n",
    "    \"\"\"\n",
    "    Implement clustering algorithm according \n",
    "    \"\"\"\n",
    "    \n",
    "    def __init__(self, k=2, linkage=single):\n",
    "        \"\"\"\n",
    "        Please add necessary algoritm parameters to class constructor.\n",
    "        \"\"\"\n",
    "        self.k = k\n",
    "        self.linkage = linkage \n",
    "        \n",
    "        return\n",
    "        \n",
    "    def fit(self, x, k, linkage, y=None):\n",
    "        \"\"\"\n",
    "        Use data matrix x to compute model parameters\n",
    "        \"\"\"\n",
    "        self.k = k\n",
    "        self.linkage = linkage \n",
    "        self.x_len = len(x)\n",
    "        return self\n",
    "    \n",
    "    def predict(self, x):\n",
    "        \"\"\"\n",
    "        Using computed model parameters predict cluster\n",
    "        for all objects from x\n",
    "        \"\"\"\n",
    "                #Nearest-neighbor chain algorithm\n",
    "        C = [] #all clusters\n",
    "        D = ss.distance.squareform(ss.distance.pdist(x)) #distance matrix\n",
    "        np.fill_diagonal(D, inf)\n",
    "        ActClust = [] #active clusters\n",
    "        n = len(x) #number of clusters \n",
    "        k = self.k\n",
    "        #print k \n",
    "        for i in xrange(n):\n",
    "            C.append(Cluster(i, i)) #init clusters \n",
    "        while n > k:\n",
    "            if len(ActClust) == 0:   \n",
    "                ActClust.append(C[0]) #if ActClust empty push rando cluster onto it \n",
    "            i = C.index(ActClust[-1]) #index of active cluster\n",
    "            j = np.argmin(D[i]) #index of cluster closest to active \n",
    "            if C[j] in ActClust: #if closest already in ActClust then... \n",
    "                Ci = ActClust.pop()\n",
    "                Cj = ActClust.pop()\n",
    "                C = merge(C, D[i][j], i, j)\n",
    "                D = update_dist(D, i, j, Ci, Cj, self.linkage)\n",
    "                n = n - 1 \n",
    "            else:\n",
    "                ActClust.append(C[j])\n",
    "        res = np.zeros(len(x))\n",
    "        for i in xrange(len(C)):\n",
    "            for n in C[i].ptrs:\n",
    "                res[n] = i\n",
    "        return res\n",
    "        \n",
    "        #return [random.randint(0,1) for r in xrange(self.x_len)]\n",
    "    \n",
    "    def fit_predict(self, x, k=2, linkage=single, y=None):\n",
    "        self.fit(x, k, linkage, y)\n",
    "        return self.predict(x)"
   ]
  },
  {
   "cell_type": "markdown",
   "metadata": {},
   "source": [
    "Сначала проверим реализованный алгоритм кластеризации на классическом наборе данных [Iris](http://www.wikiwand.com/en/Iris_flower_data_set). Загрузим данные (они включены в библиотеку sklearn) и посмотрим на то, как они выглядят в двух проекциях (для простоты используем 2 класса из 3)."
   ]
  },
  {
   "cell_type": "code",
   "execution_count": 6,
   "metadata": {
    "collapsed": false
   },
   "outputs": [
    {
     "data": {
      "image/png": "[encoded data removed]",
      "text/plain": [
       "<matplotlib.figure.Figure at 0xc8d8cf8>"
      ]
     },
     "metadata": {},
     "output_type": "display_data"
    }
   ],
   "source": [
    "iris = ds.load_iris()\n",
    "x_iris = iris.data[:100]\n",
    "y_iris = iris.target[:100]\n",
    "\n",
    "pl.figure(figsize=(10, 5))\n",
    "\n",
    "pl.subplot(1, 2, 1)\n",
    "pl.scatter(x_iris[:, 0], x_iris[:, 1], c=y_iris, cmap=pl.cm.PuOr, lw=0, s=30)\n",
    "plt.xlabel('Sepal length')\n",
    "plt.ylabel('Sepal width')\n",
    "\n",
    "pl.subplot(1, 2, 2)\n",
    "pl.scatter(x_iris[:, 2], x_iris[:, 3], c=y_iris, cmap=pl.cm.PuOr, lw=0, s=30)\n",
    "plt.xlabel('Petal length')\n",
    "plt.ylabel('Petal width')\n",
    "pl.show()"
   ]
  },
  {
   "cell_type": "markdown",
   "metadata": {},
   "source": [
    "Видно, что классы разделяются, поэтому можно надеяться, что наш алгоритм \"найдет\" кластеры, соответствующие исходным классам. Результат работы реализованного алгоритма кластеризации предлагается сравнить с эталонной кластеризацией. Для этого предлагается изучить метрику ([adjusted rand score](http://scikit-learn.org/stable/modules/generated/sklearn.metrics.adjusted_rand_score.html)). В случае если значение этой метрики отличается от 1, предлагается поработать над улучшением реализации своего алгоритма."
   ]
  },
  {
   "cell_type": "code",
   "execution_count": 7,
   "metadata": {
    "collapsed": false,
    "scrolled": true
   },
   "outputs": [
    {
     "name": "stdout",
     "output_type": "stream",
     "text": [
      "Adjusted Rand index for iris is: 1.00\n"
     ]
    }
   ],
   "source": [
    "pred_iris = Clustering().fit_predict(x_iris)\n",
    "#pred_iris = sc.AgglomerativeClustering().fit_predict(x_iris)\n",
    "print \"Adjusted Rand index for iris is: %.2f\" % smt.adjusted_rand_score(y_iris, pred_iris)"
   ]
  },
  {
   "cell_type": "markdown",
   "metadata": {},
   "source": [
    "Выбрать и реализовать критерий качества, на основании которого будут подбираться параметры модели. Варианты критериев:\n",
    "- Инерция (сумма квадратов расстояний от каждой из точек до ближайшего к этой точке центроида)\n",
    "- Средний диаметр (максимальное расстояние между точками в кластере) или радиус (расстояние от центроида до самой дальней от него точки в кластере)\n",
    "- Sihouette\n",
    "\n",
    "**Критерий качества необходимо выбрать таким образом, чтобы он подходил для реализованного алгоритма**"
   ]
  },
  {
   "cell_type": "code",
   "execution_count": 13,
   "metadata": {
    "collapsed": true
   },
   "outputs": [],
   "source": [
    "def clust_distance(c1, c2):\n",
    "    return ss.distance.cdist(c1, c2).min()#ss.distance.cdist(c1, c2).sum()/(len(c1)*len(c2))"
   ]
  },
  {
   "cell_type": "code",
   "execution_count": 14,
   "metadata": {
    "collapsed": false
   },
   "outputs": [],
   "source": [
    "def quality(x, y, k):\n",
    "    \"\"\"\n",
    "    Implement quality criterion of your choice\n",
    "    \"\"\"\n",
    "    #Dunn index \n",
    "    CC = []\n",
    "    for i in xrange(k):\n",
    "        CC.append([x[j] for j in xrange(len(y)) if y[j] == i])\n",
    "    minim = inf\n",
    "    for i in xrange(len(CC)):\n",
    "        for j in xrange(i+1, len(CC)):\n",
    "            dist = clust_distance(CC[i], CC[j])\n",
    "            if dist < minim:\n",
    "                minim = dist \n",
    "                \n",
    "    lis = list(map((lambda x: ss.distance.pdist(x).max() if len(x) > 1 else 0), CC))\n",
    "    maxim = max(lis)\n",
    "    \n",
    "    return minim/maxim"
   ]
  },
  {
   "cell_type": "markdown",
   "metadata": {},
   "source": [
    "Применим критерий для выбора параметров алгоритма. Предлагается изменить следующий код таким образом, чтобы кластеризация вызывалась с верным набором параметров. На графике можно будет увидеть зависимость критерия от параметров алгоритма. Необходимо выбрать оптимальные значения этих параметров."
   ]
  },
  {
   "cell_type": "code",
   "execution_count": 15,
   "metadata": {
    "collapsed": false
   },
   "outputs": [
    {
     "data": {
      "image/png": "[encoded data removed]",
      "text/plain": [
       "<matplotlib.figure.Figure at 0xcc5bd68>"
      ]
     },
     "metadata": {},
     "output_type": "display_data"
    }
   ],
   "source": [
    "ks = range(1, 21)\n",
    "criteria = np.zeros(len(ks))\n",
    "\n",
    "for i, k in enumerate(ks):\n",
    "    cls = Clustering()\n",
    "    y = cls.fit_predict(x_iris, k=k)\n",
    "    #print y\n",
    "    criteria[i] = quality(x_iris, y, k)\n",
    "    \n",
    "pl.figure(figsize=(8, 6))\n",
    "pl.plot(ks, criteria)\n",
    "pl.title(\"$J(k)$\")\n",
    "pl.ylabel(\"Criteria $J$\")\n",
    "pl.xlabel(\"Number of clusters $k$\")\n",
    "pl.grid()\n",
    "pl.show()"
   ]
  },
  {
   "cell_type": "markdown",
   "metadata": {},
   "source": [
    "Далее необходимо кластеризовать данные, используя выбранное количество кластеров, и визуализировать результат с помощью T-SNE. Внимание! На полном объеме данных данный алгоритм может работать существенное время. "
   ]
  },
  {
   "cell_type": "code",
   "execution_count": 224,
   "metadata": {
    "collapsed": false,
    "scrolled": true
   },
   "outputs": [],
   "source": [
    "k = 5\n",
    "cls = Clustering()\n",
    "y = cls.fit_predict(x, k=5)"
   ]
  },
  {
   "cell_type": "markdown",
   "metadata": {},
   "source": [
    "Визуализируем результаты кластеризации ([подсказка](http://anokhin.github.io/img/hw3_tsne-kmeans.png)). Можно ли сказать, что в двумерном пространстве объекты из одного кластера находятся недалеко? Какой вывод можно сделать о качестве кластеризации?"
   ]
  },
  {
   "cell_type": "code",
   "execution_count": 226,
   "metadata": {
    "collapsed": false,
    "scrolled": true
   },
   "outputs": [],
   "source": [
    "tsne = sm.TSNE(n_components=2, verbose=1, n_iter=1000)\n",
    "z = tsne.fit_transform(x)\n",
    "\n",
    "# Color map\n",
    "cm = pl.get_cmap('jet')\n",
    "pl.figure(figsize=(15, 15))\n",
    "pl.scatter(z[:, 0], z[:, 1], c=map(lambda c: cm(1.0 * c / k), y))\n",
    "pl.axis('off')\n",
    "pl.show()"
   ]
  },
  {
   "cell_type": "markdown",
   "metadata": {},
   "source": [
    "Попробуем проанализировать полученные кластеры. Для того, чтобы интерпретировать \"суть\" каждого из кластеров, построим [radar plot](http://www.wikiwand.com/en/Radar_chart), отображающий их центроиды. Посмотрите на графики и попробуйте объяснить, каким поведением можно охарактеризовать каждый из полученных кластеров? Есть ли среди кластеров похожие?\n",
    "\n",
    "Реализация радара позаимствована отсюда: \n",
    "http://www.science-emergence.com/Matplotlib/MatplotlibGallery/RadarChartMatplotlibRougier/"
   ]
  },
  {
   "cell_type": "code",
   "execution_count": 20,
   "metadata": {
    "collapsed": false
   },
   "outputs": [
    {
     "data": {
      "image/png": "[encoded data removed]",
      "text/plain": [
       "<matplotlib.figure.Figure at 0x7f93c7f94910>"
      ]
     },
     "metadata": {},
     "output_type": "display_data"
    }
   ],
   "source": [
    "def radar(centroid, features, axes, color):\n",
    "    # Set ticks to the number of features (in radians)\n",
    "    t = np.arange(0, 2*np.pi, 2*np.pi/len(features))\n",
    "    plt.xticks(t, [])\n",
    "\n",
    "    # Set yticks from 0 to 1\n",
    "    plt.yticks(np.linspace(0, 1, 6))\n",
    "\n",
    "    # Draw polygon representing centroid\n",
    "    points = [(x, y) for x, y in zip(t, centroid)]\n",
    "    points.append(points[0])\n",
    "    points = np.array(points)\n",
    "    codes = [path.Path.MOVETO,] + [path.Path.LINETO,] * (len(centroid) - 1) + [ path.Path.CLOSEPOLY ]\n",
    "    _path = path.Path(points, codes)\n",
    "    _patch = patches.PathPatch(_path, fill=True, color=color, linewidth=0, alpha=.3)\n",
    "    axes.add_patch(_patch)\n",
    "    _patch = patches.PathPatch(_path, fill=False, linewidth = 2)\n",
    "    axes.add_patch(_patch)\n",
    "\n",
    "    # Draw circles at value points\n",
    "    plt.scatter(points[:,0], points[:,1], linewidth=2, s=50, color='white', edgecolor='black', zorder=10)\n",
    "\n",
    "    # Set axes limits\n",
    "    plt.ylim(0, 1)\n",
    "\n",
    "    # Draw ytick labels to make sure they fit properly\n",
    "    for i in range(len(features)):\n",
    "        angle_rad = i/float(len(features))*2*np.pi\n",
    "        angle_deg = i/float(len(features))*360\n",
    "        ha = \"right\"\n",
    "        if angle_rad < np.pi/2 or angle_rad > 3*np.pi/2: ha = \"left\"\n",
    "        plt.text(angle_rad, 1.05, features[i], size=7, horizontalalignment=ha, verticalalignment=\"center\")\n",
    "\n",
    "# Some additiola imports\n",
    "import matplotlib\n",
    "import matplotlib.path as path\n",
    "import matplotlib.pyplot as plt\n",
    "import matplotlib.patches as patches\n",
    "\n",
    "# Choose some nice colors\n",
    "matplotlib.rc('axes', facecolor = 'white')\n",
    "# Make figure background the same colors as axes \n",
    "fig = plt.figure(figsize=(15, 15), facecolor='white')\n",
    "\n",
    "cm = pl.get_cmap('jet')\n",
    "\n",
    "clusters = np.unique(y)\n",
    "for j, cluster in enumerate(clusters):    \n",
    "    x_c = x[y == cluster]\n",
    "    centroid = x_c.mean(axis=0)    \n",
    "    # Use a polar axes\n",
    "    axes = plt.subplot(3, 3, j + 1, polar=True)\n",
    "    radar(centroid, data_df.columns.values, axes, cm(1.0 * j / k))\n",
    "\n",
    "plt.show()"
   ]
  },
  {
   "cell_type": "markdown",
   "metadata": {},
   "source": [
    "Поздравляем, Вы завершили домашние задания по модулю \"Алгоритмы кластеризации\". Надеемся, что это было интересно."
   ]
  }
 ],
 "metadata": {
  "anaconda-cloud": {},
  "kernelspec": {
   "display_name": "Python [Root]",
   "language": "python",
   "name": "Python [Root]"
  },
  "language_info": {
   "codemirror_mode": {
    "name": "ipython",
    "version": 2
   },
   "file_extension": ".py",
   "mimetype": "text/x-python",
   "name": "python",
   "nbconvert_exporter": "python",
   "pygments_lexer": "ipython2",
   "version": "2.7.12"
  }
 },
 "nbformat": 4,
 "nbformat_minor": 0
}
